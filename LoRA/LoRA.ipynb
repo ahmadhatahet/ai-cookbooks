{
 "cells": [
  {
   "cell_type": "code",
   "execution_count": null,
   "id": "87173dd3",
   "metadata": {},
   "outputs": [],
   "source": [
    "from datasets import load_dataset\n",
    "from peft import LoraConfig\n",
    "import torch\n",
    "from trl import SFTTrainer\n",
    "from transformers import (\n",
    "    AutoModelForCausalLM,\n",
    "    AutoTokenizer,\n",
    "    TrainingArguments,\n",
    "    BitsAndBytesConfig,\n",
    ")"
   ]
  },
  {
   "cell_type": "code",
   "execution_count": null,
   "id": "59f94bde",
   "metadata": {},
   "outputs": [],
   "source": [
    "# Important Variables\n",
    "MAX_SEQ_LENGTH = 2048\n",
    "OUTPUT_DIR = \"./outputs\""
   ]
  },
  {
   "cell_type": "code",
   "execution_count": null,
   "id": "9ff0752e",
   "metadata": {},
   "outputs": [],
   "source": [
    "# training config\n",
    "\n",
    "training_config = {\n",
    "    \"output_dir\": OUTPUT_DIR,\n",
    "    \"bf16\": True,\n",
    "    \"optim\": \"paged_adamw_32bit\",\n",
    "    \"learning_rate\": 2e-5,\n",
    "    \"logging_steps\": 20,\n",
    "    \"logging_strategy\": \"steps\",\n",
    "    \"lr_scheduler_type\": \"cosine\",\n",
    "    \"weight_decay\": 0.001,\n",
    "    \"num_train_epochs\": 2,\n",
    "    \"overwrite_output_dir\": True,\n",
    "    \"per_device_eval_batch_size\": 4,\n",
    "    \"per_device_train_batch_size\": 4,\n",
    "    \"save_steps\": 50,\n",
    "    \"save_total_limit\": 1,\n",
    "    \"gradient_accumulation_steps\": 2,\n",
    "    \"warmup_steps\" : 20,\n",
    "}\n",
    "\n",
    "training_config = TrainingArguments(**training_config)"
   ]
  },
  {
   "cell_type": "code",
   "execution_count": null,
   "id": "9b3abe76",
   "metadata": {},
   "outputs": [],
   "source": [
    "# LoRA configuration\n",
    "\n",
    "lora_config = {\n",
    "    \"r\": 8,\n",
    "    \"lora_alpha\": 16,\n",
    "    \"lora_dropout\": 0.1,\n",
    "    \"bias\": \"none\",\n",
    "    \"task_type\": \"CAUSAL_LM\",\n",
    "    \"use_rslora\": True,\n",
    "\n",
    "    # Layers to target for LoRA\n",
    "\n",
    "    # \"microsoft/phi-1_5\"\n",
    "    # \"target_modules\": [\"qkv_proj\"],\n",
    "\n",
    "    # \"TinyLlama/TinyLlama-1.1B-Chat-v1.0\"\n",
    "    \"target_modules\": [\"v_proj\", \"k_proj\", \"q_proj\", \"o_proj\"],\n",
    "}\n",
    "\n",
    "lora_config = LoraConfig(**lora_config)"
   ]
  },
  {
   "cell_type": "code",
   "execution_count": null,
   "id": "315215e4",
   "metadata": {},
   "outputs": [],
   "source": [
    "# checkpoint_path = \"microsoft/Phi-3-mini-4k-instruct\"  # has chat_template\n",
    "# checkpoint_path = \"microsoft/phi-1_5\"                 # do not has chat_template\n",
    "checkpoint_path = \"TinyLlama/TinyLlama-1.1B-Chat-v1.0\"  # has chat_template\n",
    "\n",
    "# quantization config\n",
    "quantization_config = BitsAndBytesConfig(\n",
    "    load_in_8bit=True,\n",
    "    bnb_8bit_compute_dtype=torch.bfloat16,\n",
    "    llm_int8_enable_fp32_cpu_offload = True\n",
    ")\n",
    "\n",
    "# load model\n",
    "model = AutoModelForCausalLM.from_pretrained(\n",
    "    checkpoint_path,\n",
    "    use_cache=False,\n",
    "    trust_remote_code=True,\n",
    "    torch_dtype=torch.bfloat16,\n",
    "    quantization_config=quantization_config,\n",
    "    device_map=None,\n",
    "    attn_implementation='eager',\n",
    ")"
   ]
  },
  {
   "cell_type": "code",
   "execution_count": null,
   "id": "37696bc6",
   "metadata": {},
   "outputs": [],
   "source": [
    "# load the tokenizer\n",
    "tokenizer = AutoTokenizer.from_pretrained(checkpoint_path)\n",
    "\n",
    "# customize the max length\n",
    "tokenizer.model_max_length = MAX_SEQ_LENGTH\n",
    "\n",
    "# use eos rather than eos token to prevent endless generation\n",
    "tokenizer.pad_token = tokenizer.eos_token\n",
    "tokenizer.pad_token_id = tokenizer.convert_tokens_to_ids(tokenizer.eos_token)\n",
    "\n",
    "# use unk rather than eos token to prevent endless generation\n",
    "# tokenizer.pad_token = tokenizer.unk_token\n",
    "# tokenizer.pad_token_id = tokenizer.convert_tokens_to_ids(tokenizer.pad_token)\n",
    "\n",
    "tokenizer.padding_side = 'right'"
   ]
  },
  {
   "cell_type": "code",
   "execution_count": null,
   "id": "d64f6b80",
   "metadata": {},
   "outputs": [],
   "source": [
    "# load only a subset of the dataset for quick application\n",
    "\n",
    "train_dataset = load_dataset(\"HuggingFaceH4/ultrachat_200k\", split='train_sft[:5000]')\n",
    "test_dataset = load_dataset(\"HuggingFaceH4/ultrachat_200k\", split='test_sft[:500]')\n",
    "\n",
    "column_names = list(train_dataset.features)"
   ]
  },
  {
   "cell_type": "code",
   "execution_count": null,
   "id": "41861b99",
   "metadata": {},
   "outputs": [],
   "source": [
    "# # add your custom chat template\n",
    "\n",
    "# def apply_chat_template(messages, tokenizer):\n",
    "#     prompt = \"\"\n",
    "#     for m in messages[\"messages\"]:\n",
    "#         prompt+= f\"{m['role']}: {m['content']}\\n\"\n",
    "#     messages[\"text\"] = prompt\n",
    "#     return messages"
   ]
  },
  {
   "cell_type": "code",
   "execution_count": null,
   "id": "357e4c73",
   "metadata": {},
   "outputs": [],
   "source": [
    "# use model chat template\n",
    "\n",
    "def apply_chat_template(\n",
    "    example,\n",
    "    tokenizer,\n",
    "):\n",
    "    messages = example[\"messages\"]\n",
    "    example[\"text\"] = tokenizer.apply_chat_template(\n",
    "        messages, tokenize=False, add_generation_prompt=False\n",
    "    )\n",
    "    return example"
   ]
  },
  {
   "cell_type": "code",
   "execution_count": null,
   "id": "0457c5c8",
   "metadata": {},
   "outputs": [],
   "source": [
    "# apply the chat template\n",
    "\n",
    "processed_train_dataset = train_dataset.map(\n",
    "    apply_chat_template,\n",
    "    fn_kwargs={\"tokenizer\": tokenizer},\n",
    "    num_proc=10,\n",
    "    remove_columns=column_names,\n",
    "    desc=\"Applying chat template to train_sft\",\n",
    ")\n",
    "\n",
    "processed_test_dataset = test_dataset.map(\n",
    "    apply_chat_template,\n",
    "    fn_kwargs={\"tokenizer\": tokenizer},\n",
    "    num_proc=10,\n",
    "    remove_columns=column_names,\n",
    "    desc=\"Applying chat template to test_sft\",\n",
    ")"
   ]
  },
  {
   "cell_type": "code",
   "execution_count": null,
   "id": "22c0773d",
   "metadata": {},
   "outputs": [],
   "source": [
    "# initialize the SFTTrainer\n",
    "trainer = SFTTrainer(\n",
    "    model=model,\n",
    "    args=training_config,\n",
    "    peft_config=lora_config,\n",
    "    train_dataset=processed_train_dataset,\n",
    "    eval_dataset=processed_test_dataset,\n",
    ")"
   ]
  },
  {
   "cell_type": "code",
   "execution_count": null,
   "id": "ce2061cc",
   "metadata": {},
   "outputs": [],
   "source": [
    "# start training\n",
    "train_result = trainer.train()"
   ]
  },
  {
   "cell_type": "code",
   "execution_count": null,
   "id": "23fe63ff",
   "metadata": {},
   "outputs": [],
   "source": [
    "metrics = train_result.metrics\n",
    "trainer.log_metrics(\"train\", metrics)\n",
    "trainer.save_metrics(\"train\", metrics)\n",
    "trainer.save_state()"
   ]
  },
  {
   "cell_type": "code",
   "execution_count": null,
   "id": "3cafee4c",
   "metadata": {},
   "outputs": [],
   "source": [
    "tokenizer.padding_side = 'left'\n",
    "\n",
    "metrics = trainer.evaluate()\n",
    "metrics[\"eval_samples\"] = len(processed_test_dataset)\n",
    "\n",
    "trainer.log_metrics(\"eval\", metrics)\n",
    "trainer.save_metrics(\"eval\", metrics)"
   ]
  },
  {
   "cell_type": "code",
   "execution_count": null,
   "id": "752bf5aa",
   "metadata": {},
   "outputs": [],
   "source": [
    "trainer.save_model(train_conf.output_dir)"
   ]
  },
  {
   "cell_type": "code",
   "execution_count": null,
   "id": "0b8fbf76",
   "metadata": {},
   "outputs": [],
   "source": [
    "# remove modules for memory from huggingface cache\n",
    "\n",
    "# !rm -r ~/.cache/huggingface/modules/\n",
    "# !rm -r ~/.cache/huggingface/datasets/"
   ]
  }
 ],
 "metadata": {
  "kernelspec": {
   "display_name": ".venv",
   "language": "python",
   "name": "python3"
  },
  "language_info": {
   "codemirror_mode": {
    "name": "ipython",
    "version": 3
   },
   "file_extension": ".py",
   "mimetype": "text/x-python",
   "name": "python",
   "nbconvert_exporter": "python",
   "pygments_lexer": "ipython3",
   "version": "3.13.3"
  }
 },
 "nbformat": 4,
 "nbformat_minor": 5
}
