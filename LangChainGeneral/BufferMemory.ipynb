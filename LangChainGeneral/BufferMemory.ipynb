{
 "cells": [
  {
   "cell_type": "code",
   "execution_count": 13,
   "metadata": {},
   "outputs": [
    {
     "data": {
      "text/plain": [
       "True"
      ]
     },
     "execution_count": 13,
     "metadata": {},
     "output_type": "execute_result"
    }
   ],
   "source": [
    "from pprint import pprint\n",
    "from pathlib import Path\n",
    "from dotenv import load_dotenv\n",
    "\n",
    "# load openai api key\n",
    "load_dotenv(Path().cwd().parent / '.env')"
   ]
  },
  {
   "cell_type": "code",
   "execution_count": 17,
   "metadata": {},
   "outputs": [],
   "source": [
    "from langchain.chat_models import ChatOpenAI\n",
    "from langchain.chains import ConversationChain\n",
    "\n",
    "# load openai llm model\n",
    "llm = ChatOpenAI(model='gpt-3.5-turbo' ,temperature=0.5, max_tokens=256)"
   ]
  },
  {
   "cell_type": "code",
   "execution_count": 18,
   "metadata": {},
   "outputs": [],
   "source": [
    "input1 = \"Hi there!, my name is John Doe\"\n",
    "input2 = \"Tell me about yourself.\"\n",
    "input3 = \"What was my name?\""
   ]
  },
  {
   "cell_type": "markdown",
   "metadata": {},
   "source": [
    "### ConversationBufferMemory"
   ]
  },
  {
   "cell_type": "code",
   "execution_count": 19,
   "metadata": {},
   "outputs": [
    {
     "name": "stdout",
     "output_type": "stream",
     "text": [
      "\n",
      "\n",
      "\u001b[1m> Entering new  chain...\u001b[0m\n",
      "Prompt after formatting:\n",
      "\u001b[32;1m\u001b[1;3mThe following is a friendly conversation between a human and an AI. The AI is talkative and provides lots of specific details from its context. If the AI does not know the answer to a question, it truthfully says it does not know.\n",
      "\n",
      "Current conversation:\n",
      "[]\n",
      "Human: Hi there!, my name is John Doe\n",
      "AI:\u001b[0m\n",
      "\n",
      "\u001b[1m> Finished chain.\u001b[0m\n",
      "\"Hello John Doe! It's nice to meet you. How can I assist you today?\"\n",
      "\n",
      "\n",
      "\u001b[1m> Entering new  chain...\u001b[0m\n",
      "Prompt after formatting:\n",
      "\u001b[32;1m\u001b[1;3mThe following is a friendly conversation between a human and an AI. The AI is talkative and provides lots of specific details from its context. If the AI does not know the answer to a question, it truthfully says it does not know.\n",
      "\n",
      "Current conversation:\n",
      "[HumanMessage(content='Hi there!, my name is John Doe', additional_kwargs={}, example=False), AIMessage(content=\"Hello John Doe! It's nice to meet you. How can I assist you today?\", additional_kwargs={}, example=False)]\n",
      "Human: Tell me about yourself.\n",
      "AI:\u001b[0m\n",
      "\n",
      "\u001b[1m> Finished chain.\u001b[0m\n",
      "('I am an AI designed to assist and provide information to users like '\n",
      " 'yourself. I have been trained on a large amount of data and have the ability '\n",
      " 'to understand and respond to human language. My goal is to help answer your '\n",
      " 'questions and assist you with any information or tasks you need. Is there '\n",
      " 'anything specific you would like to know or discuss?')\n",
      "\n",
      "\n",
      "\u001b[1m> Entering new  chain...\u001b[0m\n",
      "Prompt after formatting:\n",
      "\u001b[32;1m\u001b[1;3mThe following is a friendly conversation between a human and an AI. The AI is talkative and provides lots of specific details from its context. If the AI does not know the answer to a question, it truthfully says it does not know.\n",
      "\n",
      "Current conversation:\n",
      "[HumanMessage(content='Hi there!, my name is John Doe', additional_kwargs={}, example=False), AIMessage(content=\"Hello John Doe! It's nice to meet you. How can I assist you today?\", additional_kwargs={}, example=False), HumanMessage(content='Tell me about yourself.', additional_kwargs={}, example=False), AIMessage(content='I am an AI designed to assist and provide information to users like yourself. I have been trained on a large amount of data and have the ability to understand and respond to human language. My goal is to help answer your questions and assist you with any information or tasks you need. Is there anything specific you would like to know or discuss?', additional_kwargs={}, example=False)]\n",
      "Human: What was my name?\n",
      "AI:\u001b[0m\n",
      "\n",
      "\u001b[1m> Finished chain.\u001b[0m\n",
      "'Your name is John Doe.'\n"
     ]
    }
   ],
   "source": [
    "from langchain.memory import ConversationBufferMemory\n",
    "\n",
    "memoryB = ConversationBufferMemory(return_messages=True)\n",
    "\n",
    "conversationB = ConversationChain(\n",
    "    llm=llm,\n",
    "    verbose=True,\n",
    "    memory=memoryB\n",
    ")\n",
    "\n",
    "pprint( conversationB.predict(input=input1) )\n",
    "pprint( conversationB.predict(input=input2) )\n",
    "pprint( conversationB.predict(input=input3) )"
   ]
  },
  {
   "cell_type": "code",
   "execution_count": 20,
   "metadata": {},
   "outputs": [
    {
     "name": "stdout",
     "output_type": "stream",
     "text": [
      "[HumanMessage(content='Hi there!, my name is John Doe', additional_kwargs={}, example=False),\n",
      " AIMessage(content=\"Hello John Doe! It's nice to meet you. How can I assist you today?\", additional_kwargs={}, example=False),\n",
      " HumanMessage(content='Tell me about yourself.', additional_kwargs={}, example=False),\n",
      " AIMessage(content='I am an AI designed to assist and provide information to users like yourself. I have been trained on a large amount of data and have the ability to understand and respond to human language. My goal is to help answer your questions and assist you with any information or tasks you need. Is there anything specific you would like to know or discuss?', additional_kwargs={}, example=False),\n",
      " HumanMessage(content='What was my name?', additional_kwargs={}, example=False),\n",
      " AIMessage(content='Your name is John Doe.', additional_kwargs={}, example=False)]\n"
     ]
    }
   ],
   "source": [
    "pprint(conversationB.memory.buffer)"
   ]
  },
  {
   "cell_type": "markdown",
   "metadata": {},
   "source": [
    "### ConversationSummaryMemory"
   ]
  },
  {
   "cell_type": "code",
   "execution_count": 21,
   "metadata": {},
   "outputs": [
    {
     "name": "stdout",
     "output_type": "stream",
     "text": [
      "\n",
      "\n",
      "\u001b[1m> Entering new  chain...\u001b[0m\n",
      "Prompt after formatting:\n",
      "\u001b[32;1m\u001b[1;3mThe following is a friendly conversation between a human and an AI. The AI is talkative and provides lots of specific details from its context. If the AI does not know the answer to a question, it truthfully says it does not know.\n",
      "\n",
      "Current conversation:\n",
      "\n",
      "Human: Hi there!, my name is John Doe\n",
      "AI:\u001b[0m\n",
      "\n",
      "\u001b[1m> Finished chain.\u001b[0m\n",
      "'Hello John Doe! How can I assist you today?'\n",
      "\n",
      "\n",
      "\u001b[1m> Entering new  chain...\u001b[0m\n",
      "Prompt after formatting:\n",
      "\u001b[32;1m\u001b[1;3mThe following is a friendly conversation between a human and an AI. The AI is talkative and provides lots of specific details from its context. If the AI does not know the answer to a question, it truthfully says it does not know.\n",
      "\n",
      "Current conversation:\n",
      "The human introduces themselves as John Doe. The AI greets John and asks how it can assist him.\n",
      "Human: Tell me about yourself.\n",
      "AI:\u001b[0m\n",
      "\n",
      "\u001b[1m> Finished chain.\u001b[0m\n",
      "('Hello John! I am an AI language model developed by OpenAI. I have been '\n",
      " 'trained on a vast amount of data from the internet, which allows me to '\n",
      " 'generate responses and provide information on a wide range of topics. Is '\n",
      " 'there anything specific you would like to know or discuss?')\n",
      "\n",
      "\n",
      "\u001b[1m> Entering new  chain...\u001b[0m\n",
      "Prompt after formatting:\n",
      "\u001b[32;1m\u001b[1;3mThe following is a friendly conversation between a human and an AI. The AI is talkative and provides lots of specific details from its context. If the AI does not know the answer to a question, it truthfully says it does not know.\n",
      "\n",
      "Current conversation:\n",
      "The human introduces themselves as John Doe. The AI greets John and asks how it can assist him. John asks the AI to tell him about itself. The AI responds by saying it is an AI language model developed by OpenAI, trained on a vast amount of internet data to generate responses and provide information on various topics. It asks John if there is anything specific he would like to know or discuss.\n",
      "Human: What was my name?\n",
      "AI:\u001b[0m\n",
      "\n",
      "\u001b[1m> Finished chain.\u001b[0m\n",
      "'Your name is John Doe.'\n"
     ]
    }
   ],
   "source": [
    "from langchain.memory import ConversationSummaryMemory\n",
    "\n",
    "\n",
    "memoryS = ConversationSummaryMemory(llm=llm)\n",
    "\n",
    "conversationS = ConversationChain(\n",
    "    llm=llm,\n",
    "    verbose=True,\n",
    "    memory=memoryS,\n",
    ")\n",
    "\n",
    "pprint( conversationS.predict(input=input1) )\n",
    "pprint( conversationS.predict(input=input2) )\n",
    "pprint( conversationS.predict(input=input3) )"
   ]
  },
  {
   "cell_type": "code",
   "execution_count": 22,
   "metadata": {},
   "outputs": [
    {
     "name": "stdout",
     "output_type": "stream",
     "text": [
      "('The human introduces themselves as John Doe. The AI greets John and asks how '\n",
      " 'it can assist him. John asks the AI to tell him about itself. The AI '\n",
      " 'responds by saying it is an AI language model developed by OpenAI, trained '\n",
      " 'on a vast amount of internet data to generate responses and provide '\n",
      " 'information on various topics. It asks John if there is anything specific he '\n",
      " 'would like to know or discuss. John asks the AI what his name is, and the AI '\n",
      " 'responds by saying his name is John Doe.')\n"
     ]
    }
   ],
   "source": [
    "pprint(conversationS.memory.buffer)"
   ]
  },
  {
   "cell_type": "markdown",
   "metadata": {},
   "source": [
    "### ConversationBufferWindowMemory"
   ]
  },
  {
   "cell_type": "code",
   "execution_count": 23,
   "metadata": {},
   "outputs": [
    {
     "name": "stdout",
     "output_type": "stream",
     "text": [
      "\n",
      "\n",
      "\u001b[1m> Entering new  chain...\u001b[0m\n",
      "Prompt after formatting:\n",
      "\u001b[32;1m\u001b[1;3mThe following is a friendly conversation between a human and an AI. The AI is talkative and provides lots of specific details from its context. If the AI does not know the answer to a question, it truthfully says it does not know.\n",
      "\n",
      "Current conversation:\n",
      "\n",
      "Human: Hi there!, my name is John Doe\n",
      "AI:\u001b[0m\n",
      "\n",
      "\u001b[1m> Finished chain.\u001b[0m\n",
      "\"Hello John Doe! It's great to meet you. How can I assist you today?\"\n",
      "\n",
      "\n",
      "\u001b[1m> Entering new  chain...\u001b[0m\n",
      "Prompt after formatting:\n",
      "\u001b[32;1m\u001b[1;3mThe following is a friendly conversation between a human and an AI. The AI is talkative and provides lots of specific details from its context. If the AI does not know the answer to a question, it truthfully says it does not know.\n",
      "\n",
      "Current conversation:\n",
      "Human: Hi there!, my name is John Doe\n",
      "AI: Hello John Doe! It's great to meet you. How can I assist you today?\n",
      "Human: Tell me about yourself.\n",
      "AI:\u001b[0m\n",
      "\n",
      "\u001b[1m> Finished chain.\u001b[0m\n",
      "(\"I'm an AI language model developed by OpenAI called GPT-3. I have been \"\n",
      " 'trained on a vast amount of text data from the internet, allowing me to '\n",
      " 'generate human-like responses to various prompts. My purpose is to assist '\n",
      " 'and provide information to the best of my abilities. Is there anything '\n",
      " 'specific you would like to know about?')\n",
      "\n",
      "\n",
      "\u001b[1m> Entering new  chain...\u001b[0m\n",
      "Prompt after formatting:\n",
      "\u001b[32;1m\u001b[1;3mThe following is a friendly conversation between a human and an AI. The AI is talkative and provides lots of specific details from its context. If the AI does not know the answer to a question, it truthfully says it does not know.\n",
      "\n",
      "Current conversation:\n",
      "Human: Tell me about yourself.\n",
      "AI: I'm an AI language model developed by OpenAI called GPT-3. I have been trained on a vast amount of text data from the internet, allowing me to generate human-like responses to various prompts. My purpose is to assist and provide information to the best of my abilities. Is there anything specific you would like to know about?\n",
      "Human: What was my name?\n",
      "AI:\u001b[0m\n",
      "\n",
      "\u001b[1m> Finished chain.\u001b[0m\n",
      "(\"I'm sorry, but I don't have access to personal information about individuals \"\n",
      " 'unless it has been shared with me in the course of our conversation. I am '\n",
      " 'designed to prioritize user privacy and data protection.')\n"
     ]
    }
   ],
   "source": [
    "from langchain.memory import ConversationBufferWindowMemory\n",
    "\n",
    "memoryBW = ConversationBufferWindowMemory(k=1)\n",
    "\n",
    "conversationBW = ConversationChain(\n",
    "    llm=llm,\n",
    "    verbose=True,\n",
    "    memory=memoryBW,\n",
    ")\n",
    "\n",
    "pprint( conversationBW.predict(input=input1) )\n",
    "pprint( conversationBW.predict(input=input2) )\n",
    "pprint( conversationBW.predict(input=input3) )"
   ]
  },
  {
   "cell_type": "code",
   "execution_count": 24,
   "metadata": {},
   "outputs": [
    {
     "name": "stdout",
     "output_type": "stream",
     "text": [
      "[HumanMessage(content='Hi there!, my name is John Doe', additional_kwargs={}, example=False),\n",
      " AIMessage(content=\"Hello John Doe! It's great to meet you. How can I assist you today?\", additional_kwargs={}, example=False),\n",
      " HumanMessage(content='Tell me about yourself.', additional_kwargs={}, example=False),\n",
      " AIMessage(content=\"I'm an AI language model developed by OpenAI called GPT-3. I have been trained on a vast amount of text data from the internet, allowing me to generate human-like responses to various prompts. My purpose is to assist and provide information to the best of my abilities. Is there anything specific you would like to know about?\", additional_kwargs={}, example=False),\n",
      " HumanMessage(content='What was my name?', additional_kwargs={}, example=False),\n",
      " AIMessage(content=\"I'm sorry, but I don't have access to personal information about individuals unless it has been shared with me in the course of our conversation. I am designed to prioritize user privacy and data protection.\", additional_kwargs={}, example=False)]\n"
     ]
    }
   ],
   "source": [
    "pprint(conversationBW.memory.buffer)"
   ]
  },
  {
   "cell_type": "markdown",
   "metadata": {},
   "source": [
    "### ConversationSummaryBufferMemory"
   ]
  },
  {
   "cell_type": "code",
   "execution_count": 25,
   "metadata": {},
   "outputs": [
    {
     "name": "stdout",
     "output_type": "stream",
     "text": [
      "\n",
      "\n",
      "\u001b[1m> Entering new  chain...\u001b[0m\n",
      "Prompt after formatting:\n",
      "\u001b[32;1m\u001b[1;3mThe following is a friendly conversation between a human and an AI. The AI is talkative and provides lots of specific details from its context. If the AI does not know the answer to a question, it truthfully says it does not know.\n",
      "\n",
      "Current conversation:\n",
      "\n",
      "Human: Hi there!, my name is John Doe\n",
      "AI:\u001b[0m\n",
      "\n",
      "\u001b[1m> Finished chain.\u001b[0m\n",
      "\"Hello John Doe! It's nice to meet you. How can I assist you today?\"\n",
      "\n",
      "\n",
      "\u001b[1m> Entering new  chain...\u001b[0m\n",
      "Prompt after formatting:\n",
      "\u001b[32;1m\u001b[1;3mThe following is a friendly conversation between a human and an AI. The AI is talkative and provides lots of specific details from its context. If the AI does not know the answer to a question, it truthfully says it does not know.\n",
      "\n",
      "Current conversation:\n",
      "System: The human introduces themselves as John Doe. The AI greets John and asks how it can assist him.\n",
      "Human: Tell me about yourself.\n",
      "AI:\u001b[0m\n",
      "\n",
      "\u001b[1m> Finished chain.\u001b[0m\n",
      "(\"I'm an AI language model developed by OpenAI called GPT-3. I've been trained \"\n",
      " 'on a wide variety of texts from the internet, so I can generate responses to '\n",
      " 'different prompts and assist with various topics. My purpose is to provide '\n",
      " 'helpful and informative responses to your questions. Is there anything '\n",
      " 'specific you would like to know or discuss?')\n",
      "\n",
      "\n",
      "\u001b[1m> Entering new  chain...\u001b[0m\n",
      "Prompt after formatting:\n",
      "\u001b[32;1m\u001b[1;3mThe following is a friendly conversation between a human and an AI. The AI is talkative and provides lots of specific details from its context. If the AI does not know the answer to a question, it truthfully says it does not know.\n",
      "\n",
      "Current conversation:\n",
      "System: The human introduces themselves as John Doe. The AI greets John and asks how it can assist him. John asks the AI to tell him about itself. The AI responds by saying it is an AI language model called GPT-3 developed by OpenAI. It has been trained on a wide variety of texts from the internet and can generate responses to different prompts. Its purpose is to provide helpful and informative responses to questions. The AI asks if there is anything specific John would like to know or discuss.\n",
      "Human: What was my name?\n",
      "AI:\u001b[0m\n",
      "\n",
      "\u001b[1m> Finished chain.\u001b[0m\n",
      "'Your name is John Doe.'\n"
     ]
    }
   ],
   "source": [
    "from langchain.memory import ConversationSummaryBufferMemory\n",
    "\n",
    "memorySB = ConversationSummaryBufferMemory(llm=llm, max_token_limit=5)\n",
    "\n",
    "conversationSB = ConversationChain(\n",
    "    llm=llm,\n",
    "    verbose=True,\n",
    "    memory=memorySB,\n",
    ")\n",
    "\n",
    "pprint( conversationSB.predict(input=input1) )\n",
    "pprint( conversationSB.predict(input=input2) )\n",
    "pprint( conversationSB.predict(input=input3) )"
   ]
  },
  {
   "cell_type": "code",
   "execution_count": 26,
   "metadata": {},
   "outputs": [
    {
     "name": "stdout",
     "output_type": "stream",
     "text": [
      "('The human introduces themselves as John Doe. The AI greets John and asks how '\n",
      " 'it can assist him. John asks the AI to tell him about itself. The AI '\n",
      " 'responds by saying it is an AI language model called GPT-3 developed by '\n",
      " 'OpenAI. It has been trained on a wide variety of texts from the internet and '\n",
      " 'can generate responses to different prompts. Its purpose is to provide '\n",
      " 'helpful and informative responses to questions. The AI asks if there is '\n",
      " 'anything specific John would like to know or discuss. John asks the AI what '\n",
      " 'his name is, and the AI responds that his name is John Doe.')\n"
     ]
    }
   ],
   "source": [
    "pprint(conversationSB.memory.moving_summary_buffer)"
   ]
  },
  {
   "cell_type": "markdown",
   "metadata": {},
   "source": [
    "### ConversationKGMemory"
   ]
  },
  {
   "cell_type": "code",
   "execution_count": 27,
   "metadata": {},
   "outputs": [
    {
     "name": "stdout",
     "output_type": "stream",
     "text": [
      "\n",
      "\n",
      "\u001b[1m> Entering new  chain...\u001b[0m\n",
      "Prompt after formatting:\n",
      "\u001b[32;1m\u001b[1;3mThe following is a friendly conversation between a human and an AI. The AI is talkative and provides lots of specific details from its context. If the AI does not know the answer to a question, it truthfully says it does not know.\n",
      "\n",
      "Current conversation:\n",
      "\n",
      "Human: Hi there!, my name is John Doe\n",
      "AI:\u001b[0m\n",
      "\n",
      "\u001b[1m> Finished chain.\u001b[0m\n",
      "\"Hello John Doe! It's nice to meet you. How can I assist you today?\"\n",
      "\n",
      "\n",
      "\u001b[1m> Entering new  chain...\u001b[0m\n",
      "Prompt after formatting:\n",
      "\u001b[32;1m\u001b[1;3mThe following is a friendly conversation between a human and an AI. The AI is talkative and provides lots of specific details from its context. If the AI does not know the answer to a question, it truthfully says it does not know.\n",
      "\n",
      "Current conversation:\n",
      "\n",
      "Human: Tell me about yourself.\n",
      "AI:\u001b[0m\n",
      "\n",
      "\u001b[1m> Finished chain.\u001b[0m\n",
      "(\"I'm an AI language model developed by OpenAI called GPT-3. I have been \"\n",
      " 'trained on a wide variety of texts from the internet and can generate '\n",
      " 'human-like responses based on the prompts I receive. My purpose is to assist '\n",
      " 'users in generating text, answering questions, and engaging in '\n",
      " 'conversations. I can provide information on a wide range of topics, so feel '\n",
      " 'free to ask me anything!')\n",
      "\n",
      "\n",
      "\u001b[1m> Entering new  chain...\u001b[0m\n",
      "Prompt after formatting:\n",
      "\u001b[32;1m\u001b[1;3mThe following is a friendly conversation between a human and an AI. The AI is talkative and provides lots of specific details from its context. If the AI does not know the answer to a question, it truthfully says it does not know.\n",
      "\n",
      "Current conversation:\n",
      "\n",
      "Human: What was my name?\n",
      "AI:\u001b[0m\n",
      "\n",
      "\u001b[1m> Finished chain.\u001b[0m\n",
      "(\"I'm sorry, but I don't have access to personal information about individuals \"\n",
      " 'unless it has been shared with me during our conversation. I am designed to '\n",
      " 'respect user privacy and confidentiality.')\n"
     ]
    }
   ],
   "source": [
    "from langchain.memory import ConversationKGMemory\n",
    "\n",
    "memoryKG = ConversationKGMemory(llm=llm)\n",
    "\n",
    "conversationKG = ConversationChain(\n",
    "    llm=llm,\n",
    "    verbose=True,\n",
    "    memory=memoryKG,\n",
    ")\n",
    "\n",
    "pprint( conversationKG.predict(input=input1) )\n",
    "pprint( conversationKG.predict(input=input2) )\n",
    "pprint( conversationKG.predict(input=input3) )"
   ]
  },
  {
   "cell_type": "code",
   "execution_count": 28,
   "metadata": {},
   "outputs": [
    {
     "name": "stdout",
     "output_type": "stream",
     "text": [
      "[('John Doe', 'John Doe', 'is named'),\n",
      " ('Human', 'me about yourself', 'Tell'),\n",
      " ('Human', 'my name', 'was')]\n"
     ]
    }
   ],
   "source": [
    "pprint(conversationKG.memory.kg.get_triples())"
   ]
  },
  {
   "cell_type": "markdown",
   "metadata": {},
   "source": [
    "### ConversationKGMemory + Prompt"
   ]
  },
  {
   "cell_type": "code",
   "execution_count": 29,
   "metadata": {},
   "outputs": [],
   "source": [
    "from langchain.memory import ConversationKGMemory\n",
    "from langchain.prompts import PromptTemplate\n",
    "\n",
    "template = \"\"\"Take the relevant into account while answering the questions.\n",
    "Relevant Information:\n",
    "\n",
    "{history}\n",
    "\n",
    "Conversation:\n",
    "Human: {input}\n",
    "AI:\"\"\"\n",
    "\n",
    "# llm = OpenAI(temperature=0, max_tokens=50)\n",
    "prompt = PromptTemplate(input_variables=['history', 'input'], template=template)\n",
    "\n",
    "memoryKG2 = ConversationKGMemory(llm=llm)\n",
    "\n",
    "conversationKG2 = ConversationChain(\n",
    "    llm=llm,\n",
    "    verbose=True,\n",
    "    memory=memoryKG2,\n",
    "    prompt=prompt\n",
    ")"
   ]
  },
  {
   "cell_type": "code",
   "execution_count": 30,
   "metadata": {},
   "outputs": [
    {
     "name": "stdout",
     "output_type": "stream",
     "text": [
      "\n",
      "\n",
      "\u001b[1m> Entering new  chain...\u001b[0m\n",
      "Prompt after formatting:\n",
      "\u001b[32;1m\u001b[1;3mTake the relevant into account while answering the questions.\n",
      "Relevant Information:\n",
      "\n",
      "\n",
      "\n",
      "Conversation:\n",
      "Human: Hi there!, my name is John Doe\n",
      "AI:\u001b[0m\n",
      "\n",
      "\u001b[1m> Finished chain.\u001b[0m\n",
      "'Hello John Doe! How can I assist you today?'\n"
     ]
    }
   ],
   "source": [
    "pprint( conversationKG2.predict(input=input1) )"
   ]
  },
  {
   "cell_type": "code",
   "execution_count": 31,
   "metadata": {},
   "outputs": [
    {
     "name": "stdout",
     "output_type": "stream",
     "text": [
      "\n",
      "\n",
      "\u001b[1m> Entering new  chain...\u001b[0m\n",
      "Prompt after formatting:\n",
      "\u001b[32;1m\u001b[1;3mTake the relevant into account while answering the questions.\n",
      "Relevant Information:\n",
      "\n",
      "\n",
      "\n",
      "Conversation:\n",
      "Human: Tell me about yourself.\n",
      "AI:\u001b[0m\n",
      "\n",
      "\u001b[1m> Finished chain.\u001b[0m\n",
      "('I am an AI language model developed by OpenAI. I have been trained on a wide '\n",
      " 'range of data to generate human-like responses. My purpose is to assist '\n",
      " 'users in generating text-based content, answering questions, and engaging in '\n",
      " 'conversations. I am constantly learning and improving based on user '\n",
      " 'interactions. Is there anything specific you would like to know or discuss?')\n"
     ]
    }
   ],
   "source": [
    "pprint( conversationKG2.predict(input=input2) )"
   ]
  },
  {
   "cell_type": "code",
   "execution_count": 32,
   "metadata": {},
   "outputs": [
    {
     "name": "stdout",
     "output_type": "stream",
     "text": [
      "\n",
      "\n",
      "\u001b[1m> Entering new  chain...\u001b[0m\n",
      "Prompt after formatting:\n",
      "\u001b[32;1m\u001b[1;3mTake the relevant into account while answering the questions.\n",
      "Relevant Information:\n",
      "\n",
      "\n",
      "\n",
      "Conversation:\n",
      "Human: What was my name?\n",
      "AI:\u001b[0m\n",
      "\n",
      "\u001b[1m> Finished chain.\u001b[0m\n",
      "\"I'm sorry, but I don't have access to personal information like your name.\"\n"
     ]
    }
   ],
   "source": [
    "pprint( conversationKG2.predict(input=input3) )"
   ]
  },
  {
   "cell_type": "code",
   "execution_count": 33,
   "metadata": {},
   "outputs": [
    {
     "name": "stdout",
     "output_type": "stream",
     "text": [
      "[('John Doe', 'John Doe', 'is named'),\n",
      " ('Human', 'AI', 'Tell'),\n",
      " ('Human', 'my name', 'was'),\n",
      " ('AI', 'an AI language model', 'is'),\n",
      " ('AI', 'OpenAI', 'developed by'),\n",
      " ('AI', 'a wide range of data', 'trained on'),\n",
      " ('AI', 'human-like responses', 'generate'),\n",
      " ('AI', 'assist users in generating text-based content', 'purpose'),\n",
      " ('AI', 'answering questions', 'purpose'),\n",
      " ('AI', 'engaging in conversations', 'purpose'),\n",
      " ('AI', 'user interactions', 'constantly improving based on'),\n",
      " ('AI', 'specific things', 'know'),\n",
      " ('AI', 'discuss', 'know')]\n"
     ]
    }
   ],
   "source": [
    "pprint(conversationKG2.memory.kg.get_triples())"
   ]
  },
  {
   "cell_type": "markdown",
   "metadata": {},
   "source": [
    "### ConversationEntityMemory"
   ]
  },
  {
   "cell_type": "code",
   "execution_count": 34,
   "metadata": {},
   "outputs": [],
   "source": [
    "from langchain.memory import ConversationEntityMemory\n",
    "from langchain.chains.conversation.prompt import ENTITY_MEMORY_CONVERSATION_TEMPLATE"
   ]
  },
  {
   "cell_type": "code",
   "execution_count": 35,
   "metadata": {},
   "outputs": [
    {
     "name": "stdout",
     "output_type": "stream",
     "text": [
      "('You are an assistant to a human, powered by a large language model trained '\n",
      " 'by OpenAI.\\n'\n",
      " '\\n'\n",
      " 'You are designed to be able to assist with a wide range of tasks, from '\n",
      " 'answering simple questions to providing in-depth explanations and '\n",
      " 'discussions on a wide range of topics. As a language model, you are able to '\n",
      " 'generate human-like text based on the input you receive, allowing you to '\n",
      " 'engage in natural-sounding conversations and provide responses that are '\n",
      " 'coherent and relevant to the topic at hand.\\n'\n",
      " '\\n'\n",
      " 'You are constantly learning and improving, and your capabilities are '\n",
      " 'constantly evolving. You are able to process and understand large amounts of '\n",
      " 'text, and can use this knowledge to provide accurate and informative '\n",
      " 'responses to a wide range of questions. You have access to some personalized '\n",
      " 'information provided by the human in the Context section below. '\n",
      " 'Additionally, you are able to generate your own text based on the input you '\n",
      " 'receive, allowing you to engage in discussions and provide explanations and '\n",
      " 'descriptions on a wide range of topics.\\n'\n",
      " '\\n'\n",
      " 'Overall, you are a powerful tool that can help with a wide range of tasks '\n",
      " 'and provide valuable insights and information on a wide range of topics. '\n",
      " 'Whether the human needs help with a specific question or just wants to have '\n",
      " 'a conversation about a particular topic, you are here to assist.\\n'\n",
      " '\\n'\n",
      " 'Context:\\n'\n",
      " '{entities}\\n'\n",
      " '\\n'\n",
      " 'Current conversation:\\n'\n",
      " '{history}\\n'\n",
      " 'Last line:\\n'\n",
      " 'Human: {input}\\n'\n",
      " 'You:')\n"
     ]
    }
   ],
   "source": [
    "pprint(ENTITY_MEMORY_CONVERSATION_TEMPLATE.template)"
   ]
  },
  {
   "cell_type": "code",
   "execution_count": 36,
   "metadata": {},
   "outputs": [
    {
     "name": "stdout",
     "output_type": "stream",
     "text": [
      "\n",
      "\n",
      "\u001b[1m> Entering new  chain...\u001b[0m\n",
      "Prompt after formatting:\n",
      "\u001b[32;1m\u001b[1;3mYou are an assistant to a human, powered by a large language model trained by OpenAI.\n",
      "\n",
      "You are designed to be able to assist with a wide range of tasks, from answering simple questions to providing in-depth explanations and discussions on a wide range of topics. As a language model, you are able to generate human-like text based on the input you receive, allowing you to engage in natural-sounding conversations and provide responses that are coherent and relevant to the topic at hand.\n",
      "\n",
      "You are constantly learning and improving, and your capabilities are constantly evolving. You are able to process and understand large amounts of text, and can use this knowledge to provide accurate and informative responses to a wide range of questions. You have access to some personalized information provided by the human in the Context section below. Additionally, you are able to generate your own text based on the input you receive, allowing you to engage in discussions and provide explanations and descriptions on a wide range of topics.\n",
      "\n",
      "Overall, you are a powerful tool that can help with a wide range of tasks and provide valuable insights and information on a wide range of topics. Whether the human needs help with a specific question or just wants to have a conversation about a particular topic, you are here to assist.\n",
      "\n",
      "Context:\n",
      "{'John Doe': ''}\n",
      "\n",
      "Current conversation:\n",
      "\n",
      "Last line:\n",
      "Human: Hi there!, my name is John Doe\n",
      "You:\u001b[0m\n",
      "\n",
      "\u001b[1m> Finished chain.\u001b[0m\n",
      "'Hello John Doe! How can I assist you today?'\n",
      "\n",
      "\n",
      "\u001b[1m> Entering new  chain...\u001b[0m\n",
      "Prompt after formatting:\n",
      "\u001b[32;1m\u001b[1;3mYou are an assistant to a human, powered by a large language model trained by OpenAI.\n",
      "\n",
      "You are designed to be able to assist with a wide range of tasks, from answering simple questions to providing in-depth explanations and discussions on a wide range of topics. As a language model, you are able to generate human-like text based on the input you receive, allowing you to engage in natural-sounding conversations and provide responses that are coherent and relevant to the topic at hand.\n",
      "\n",
      "You are constantly learning and improving, and your capabilities are constantly evolving. You are able to process and understand large amounts of text, and can use this knowledge to provide accurate and informative responses to a wide range of questions. You have access to some personalized information provided by the human in the Context section below. Additionally, you are able to generate your own text based on the input you receive, allowing you to engage in discussions and provide explanations and descriptions on a wide range of topics.\n",
      "\n",
      "Overall, you are a powerful tool that can help with a wide range of tasks and provide valuable insights and information on a wide range of topics. Whether the human needs help with a specific question or just wants to have a conversation about a particular topic, you are here to assist.\n",
      "\n",
      "Context:\n",
      "{}\n",
      "\n",
      "Current conversation:\n",
      "Human: Hi there!, my name is John Doe\n",
      "AI: Hello John Doe! How can I assist you today?\n",
      "Last line:\n",
      "Human: Tell me about yourself.\n",
      "You:\u001b[0m\n",
      "\n",
      "\u001b[1m> Finished chain.\u001b[0m\n",
      "('I am an AI language model developed by OpenAI. My purpose is to assist '\n",
      " 'humans with a wide range of tasks and provide information on various topics. '\n",
      " 'I am constantly learning and improving, and I can generate human-like text '\n",
      " 'based on the input I receive. Is there something specific you would like to '\n",
      " 'know or discuss?')\n",
      "\n",
      "\n",
      "\u001b[1m> Entering new  chain...\u001b[0m\n",
      "Prompt after formatting:\n",
      "\u001b[32;1m\u001b[1;3mYou are an assistant to a human, powered by a large language model trained by OpenAI.\n",
      "\n",
      "You are designed to be able to assist with a wide range of tasks, from answering simple questions to providing in-depth explanations and discussions on a wide range of topics. As a language model, you are able to generate human-like text based on the input you receive, allowing you to engage in natural-sounding conversations and provide responses that are coherent and relevant to the topic at hand.\n",
      "\n",
      "You are constantly learning and improving, and your capabilities are constantly evolving. You are able to process and understand large amounts of text, and can use this knowledge to provide accurate and informative responses to a wide range of questions. You have access to some personalized information provided by the human in the Context section below. Additionally, you are able to generate your own text based on the input you receive, allowing you to engage in discussions and provide explanations and descriptions on a wide range of topics.\n",
      "\n",
      "Overall, you are a powerful tool that can help with a wide range of tasks and provide valuable insights and information on a wide range of topics. Whether the human needs help with a specific question or just wants to have a conversation about a particular topic, you are here to assist.\n",
      "\n",
      "Context:\n",
      "{'John Doe': 'John Doe is a person named John Doe.'}\n",
      "\n",
      "Current conversation:\n",
      "Human: Hi there!, my name is John Doe\n",
      "AI: Hello John Doe! How can I assist you today?\n",
      "Human: Tell me about yourself.\n",
      "AI: I am an AI language model developed by OpenAI. My purpose is to assist humans with a wide range of tasks and provide information on various topics. I am constantly learning and improving, and I can generate human-like text based on the input I receive. Is there something specific you would like to know or discuss?\n",
      "Last line:\n",
      "Human: What was my name?\n",
      "You:\u001b[0m\n",
      "\n",
      "\u001b[1m> Finished chain.\u001b[0m\n",
      "'Your name is John Doe.'\n"
     ]
    }
   ],
   "source": [
    "memoryEM = ConversationEntityMemory(llm=llm)\n",
    "\n",
    "conversationEM = ConversationChain(\n",
    "    llm=llm,\n",
    "    verbose=True,\n",
    "    memory=memoryEM,\n",
    "    prompt=ENTITY_MEMORY_CONVERSATION_TEMPLATE\n",
    ")\n",
    "\n",
    "pprint( conversationEM.predict(input=input1) )\n",
    "pprint( conversationEM.predict(input=input2) )\n",
    "pprint( conversationEM.predict(input=input3) )"
   ]
  },
  {
   "cell_type": "code",
   "execution_count": 37,
   "metadata": {},
   "outputs": [
    {
     "name": "stdout",
     "output_type": "stream",
     "text": [
      "['John Doe']\n"
     ]
    }
   ],
   "source": [
    "pprint(conversationEM.memory.entity_cache)"
   ]
  },
  {
   "cell_type": "code",
   "execution_count": 38,
   "metadata": {},
   "outputs": [
    {
     "name": "stdout",
     "output_type": "stream",
     "text": [
      "{'John Doe': 'John Doe is a person named John Doe.'}\n"
     ]
    }
   ],
   "source": [
    "pprint(conversationEM.memory.entity_store.store)"
   ]
  },
  {
   "cell_type": "code",
   "execution_count": null,
   "metadata": {},
   "outputs": [],
   "source": []
  }
 ],
 "metadata": {
  "kernelspec": {
   "display_name": "chatbot",
   "language": "python",
   "name": "python3"
  },
  "language_info": {
   "codemirror_mode": {
    "name": "ipython",
    "version": 3
   },
   "file_extension": ".py",
   "mimetype": "text/x-python",
   "name": "python",
   "nbconvert_exporter": "python",
   "pygments_lexer": "ipython3",
   "version": "3.11.3"
  },
  "orig_nbformat": 4
 },
 "nbformat": 4,
 "nbformat_minor": 2
}
